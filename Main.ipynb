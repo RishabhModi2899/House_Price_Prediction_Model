{
 "cells": [
  {
   "cell_type": "code",
   "execution_count": 19,
   "metadata": {},
   "outputs": [],
   "source": [
    "import pandas as pd\n",
    "import numpy as np\n",
    "import matplotlib.pyplot as plt\n",
    "from sklearn.model_selection import train_test_split\n",
    "from sklearn.linear_model import LinearRegression\n",
    "\n",
    "# Reading the CSV\n",
    "train_df = pd.read_csv(\"C:/Users/YANTRA/Desktop/Python projects/House_price_prediction_INDIA/train.csv\")\n",
    "\n",
    "# Dropping the columns that are not going to be needed\n",
    "train_df = train_df.drop(['LATITUDE' , 'LONGITUDE' , 'POSTED_BY'] , axis='columns')\n",
    "\n",
    "# Dropping the rows that have RK instead of BHK \n",
    "train_df = train_df.drop(train_df[train_df['BHK_OR_RK'] == 'RK'].index)\n",
    "train_df.drop(columns=['BHK_OR_RK'])\n",
    "\n",
    "# Splitting the City and Area aqnd then dropping the Address Column\n",
    "train_df['Area'] = train_df['ADDRESS'].apply(lambda x: str(x.split(\",\")[0]))\n",
    "train_df['City'] = train_df['ADDRESS'].apply(lambda y: str(y.split(\",\")[1]))\n",
    "train_df = train_df.drop(columns=['ADDRESS' , 'City' , 'BHK_OR_RK'])"
   ]
  },
  {
   "cell_type": "code",
   "execution_count": 20,
   "metadata": {},
   "outputs": [],
   "source": [
    "# Feature Engineering\n",
    "# train_df.Area = train_df.Area.apply(lambda x: x.strip())\n",
    "# Area_Stats = train_df.groupby('Area')['Area'].agg('count').sort_values(ascending=False)\n",
    "# Area_Less_Than_10 = Area_Stats[Area_Stats < 10]\n",
    "# train_df.Area = train_df.Area.apply(lambda x: \"Other\" if x in Area_Less_Than_10 else x)"
   ]
  },
  {
   "cell_type": "code",
   "execution_count": 21,
   "metadata": {},
   "outputs": [],
   "source": [
    "# Outlier Detection and Removal\n",
    "train_df['Cost_Per_Square_Ft'] = ((train_df['TARGET(PRICE_IN_LACS)']) / train_df['SQUARE_FT'])\n",
    "train_df = train_df[~(train_df.SQUARE_FT / train_df['BHK_NO.'] < 300)]\n",
    "\n",
    "# Function for outlier removal\n",
    "def remove_outliers(df):\n",
    "    df_out = pd.DataFrame()\n",
    "    for key, sub_df in df.groupby('Area'):\n",
    "        mean = np.mean(sub_df.Cost_Per_Square_Ft)\n",
    "        SD = np.std(sub_df.Cost_Per_Square_Ft)\n",
    "        reduced_df = sub_df[\n",
    "            (sub_df.Cost_Per_Square_Ft > (mean - (SD))) & (sub_df.Cost_Per_Square_Ft < (mean + (SD)))]\n",
    "        df_out = pd.concat([df_out, reduced_df], ignore_index=True)\n",
    "    return df_out\n",
    "\n",
    "mod_train_df = remove_outliers(train_df)\n",
    "\n",
    "#Function to remove outliers \n",
    "def remove_outliers_1(df):\n",
    "    exc_indices = np.array([])\n",
    "    for area , area_df in df.groupby('Area'):\n",
    "        bhk_stats = {}\n",
    "        for bhk , bhk_df in area_df.groupby('BHK_NO.'):\n",
    "            bhk_stats[bhk] = {\n",
    "                'mean' : np.mean(bhk_df.Cost_Per_Square_Ft),\n",
    "                'std' : np.std(bhk_df.Cost_Per_Square_Ft),\n",
    "                'count' : bhk_df.shape[0]\n",
    "            }\n",
    "        for bhk , bhk_df in area_df.groupby('BHK_NO.'):\n",
    "            stats = bhk_stats.get(bhk - 1)\n",
    "            if stats and stats['count'] > 5:\n",
    "                exc_indices = np.append(exc_indices , bhk_df[bhk_df.Cost_Per_Square_Ft < (stats['mean'])].index.values)\n",
    "        return df.drop(exc_indices , axis = 'index')\n",
    "    \n",
    "mod_train_df = remove_outliers_1(mod_train_df)"
   ]
  },
  {
   "cell_type": "code",
   "execution_count": 22,
   "metadata": {},
   "outputs": [],
   "source": [
    "from sklearn.preprocessing import MinMaxScaler\n",
    "from sklearn.preprocessing import OneHotEncoder\n",
    "\n",
    "scaler_X = MinMaxScaler(feature_range = (0 , 1))\n",
    "scaler_Y = MinMaxScaler(feature_range = (0 , 1))\n",
    "\n",
    "# Model Building \n",
    "model_train_data = mod_train_df.drop(['Cost_Per_Square_Ft' , 'UNDER_CONSTRUCTION'] , axis = 'columns')\n",
    "\n",
    "# Creating Dummies or One hot encoding the entire dataset\n",
    "ohe = OneHotEncoder()\n",
    "ohe.fit(model_train_data.loc[: , ['Area']])\n",
    "model_train_data_OHE = ohe.transform(model_train_data.loc[: , ['Area']]).toarray()\n",
    "categories = ohe.categories_\n",
    "model_train_data_OHE = pd.DataFrame(model_train_data_OHE , columns = categories)\n",
    "model_train_data_OHE = pd.concat([model_train_data.reset_index() , model_train_data_OHE] , axis='columns')\n",
    "\n",
    "X = model_train_data_OHE.drop(['Area' ] , axis = 'columns')\n",
    "Y = X['TARGET(PRICE_IN_LACS)']\n",
    "X = X.drop([\"TARGET(PRICE_IN_LACS)\"] , axis = 'columns')\n",
    "\n",
    "X_Fin = scaler_X.fit_transform(X)\n",
    "Y_Fin = np.array(Y).reshape(-1 , 1)\n",
    "Y_Fin = scaler_Y.fit_transform(Y_Fin)\n",
    "\n",
    "X_Fin = pd.DataFrame(X_Fin)\n",
    "Y_Fin = pd.DataFrame(Y_Fin)"
   ]
  },
  {
   "cell_type": "code",
   "execution_count": 23,
   "metadata": {},
   "outputs": [],
   "source": [
    "# Decision Tree Model \n",
    "from sklearn.tree import DecisionTreeRegressor\n",
    "\n",
    "X_train , X_test , Y_train , Y_test = train_test_split(X_Fin , Y_Fin , test_size = 0.2)"
   ]
  },
  {
   "cell_type": "code",
   "execution_count": 24,
   "metadata": {},
   "outputs": [
    {
     "data": {
      "text/plain": [
       "0.837027350160049"
      ]
     },
     "execution_count": 24,
     "metadata": {},
     "output_type": "execute_result"
    }
   ],
   "source": [
    "reg1 = DecisionTreeRegressor()\n",
    "\n",
    "reg1.fit(X_train , Y_train)\n",
    "\n",
    "reg1.score(X_test , Y_test)"
   ]
  },
  {
   "cell_type": "code",
   "execution_count": 26,
   "metadata": {
    "scrolled": false
   },
   "outputs": [
    {
     "name": "stdout",
     "output_type": "stream",
     "text": [
      " Enter the following details for the prediction : \n",
      "REPLY (1/0)\n",
      " Enter the wheather the property is under RERA : s\n",
      " Enter the BHK number : lkj\n",
      " Enter the square Feet : fdg\n",
      "REPLY (1/0)\n",
      " Is the place ready to move : sdxfdf\n",
      "REPLY (1/0)\n",
      " Is the place for resale : dsfdfg\n",
      " Area : fdg\n"
     ]
    }
   ],
   "source": [
    "# Ultimately the model is trained on Decision Tree Algorithmn and the paramters on which it is trained are as follows : \n",
    "# 1. RERA\n",
    "# 2. BHK_NO.\n",
    "# 3. Square Feet \n",
    "# 4. Ready To Move\n",
    "# 5. Resale \n",
    "# 6. Area\n",
    "\n",
    "# Creating a predict function and checking how well the model performs on the test and on some instances of train datasets\n",
    "def user_dict_to_df():\n",
    "    ''' This function will take the entire inputs from the User and returns an input dictionary '''\n",
    "    \n",
    "    print(\" Enter the following details for the prediction : \")\n",
    "    \n",
    "    print(\"REPLY (1/0)\")\n",
    "    r = input(\" Enter the wheather the property is under RERA : \")\n",
    "    \n",
    "    bhkn = input(\" Enter the BHK number : \")\n",
    "    \n",
    "    sft = input(\" Enter the square Feet : \")\n",
    "    \n",
    "    print(\"REPLY (1/0)\")\n",
    "    rtm = input(\" Is the place ready to move : \")\n",
    "    \n",
    "    print(\"REPLY (1/0)\")\n",
    "    rs = input(\" Is the place for resale : \")\n",
    "    \n",
    "    area = input(\" Area : \")\n",
    "    \n",
    "    inp_dict = {'RERA' : r , 'BHK_NO.' : bhkn , 'SQUARE_FT' : sft , 'READY_TO_MOVE' : rtm , 'RESALE' : rs , 'Area' : area} \n",
    "    df = pd.DataFrame.from_dict([inp_dict])\n",
    "    \n",
    "    return df\n",
    "\n",
    "inp_dict = user_dict_to_df()"
   ]
  },
  {
   "cell_type": "code",
   "execution_count": 9,
   "metadata": {
    "scrolled": true
   },
   "outputs": [
    {
     "name": "stdout",
     "output_type": "stream",
     "text": [
      "[[110.]]\n"
     ]
    }
   ],
   "source": [
    "# A function that will take the input dictionary as dataframe , preprocess it to make it prediction ready.\n",
    "def pre_dict(inp_dict):\n",
    "    \n",
    "    new_df_1 = inp_dict.copy()\n",
    "    new_df_2 = ohe.transform(new_df_1.loc[: , ['Area']]).toarray()\n",
    "    new_df_2 = pd.DataFrame(new_df_2 , columns = categories)\n",
    "    new_df_2 = pd.concat([new_df_1.reset_index() , new_df_2] , axis='columns')\n",
    "    new_df_2 = new_df_2.drop('Area' , axis='columns')\n",
    "    new_df_2 = scaler_X.transform(new_df_2)\n",
    "    pred_val = reg1.predict(new_df_2)\n",
    "    pred_val = scaler_Y.inverse_transform([pred_val])\n",
    "    print(pred_val)\n",
    "    \n",
    "pre_dict(inp_dict)"
   ]
  },
  {
   "cell_type": "code",
   "execution_count": 28,
   "metadata": {},
   "outputs": [
    {
     "name": "stdout",
     "output_type": "stream",
     "text": [
      "(54880, 2067)\n"
     ]
    },
    {
     "ename": "ValueError",
     "evalue": "Number of features of the model must match the input. Model n_features is 2125 and input n_features is 2067 ",
     "output_type": "error",
     "traceback": [
      "\u001b[1;31m---------------------------------------------------------------------------\u001b[0m",
      "\u001b[1;31mValueError\u001b[0m                                Traceback (most recent call last)",
      "\u001b[1;32m<ipython-input-28-0d65bd4fc3b9>\u001b[0m in \u001b[0;36m<module>\u001b[1;34m\u001b[0m\n\u001b[0;32m     45\u001b[0m     \u001b[0mprint\u001b[0m\u001b[1;33m(\u001b[0m\u001b[0mTarget_Price\u001b[0m\u001b[1;33m)\u001b[0m\u001b[1;33m\u001b[0m\u001b[1;33m\u001b[0m\u001b[0m\n\u001b[0;32m     46\u001b[0m \u001b[1;33m\u001b[0m\u001b[0m\n\u001b[1;32m---> 47\u001b[1;33m \u001b[0mpredict_test_csv\u001b[0m\u001b[1;33m(\u001b[0m\u001b[1;33m)\u001b[0m\u001b[1;33m\u001b[0m\u001b[1;33m\u001b[0m\u001b[0m\n\u001b[0m",
      "\u001b[1;32m<ipython-input-28-0d65bd4fc3b9>\u001b[0m in \u001b[0;36mpredict_test_csv\u001b[1;34m()\u001b[0m\n\u001b[0;32m     41\u001b[0m \u001b[1;33m\u001b[0m\u001b[0m\n\u001b[0;32m     42\u001b[0m     \u001b[1;31m# Prediction on test Dataset\u001b[0m\u001b[1;33m\u001b[0m\u001b[1;33m\u001b[0m\u001b[1;33m\u001b[0m\u001b[0m\n\u001b[1;32m---> 43\u001b[1;33m     \u001b[0mTarget_Price\u001b[0m \u001b[1;33m=\u001b[0m \u001b[0mreg1\u001b[0m\u001b[1;33m.\u001b[0m\u001b[0mpredict\u001b[0m\u001b[1;33m(\u001b[0m\u001b[0mtest_df_Fin\u001b[0m\u001b[1;33m)\u001b[0m\u001b[1;33m\u001b[0m\u001b[1;33m\u001b[0m\u001b[0m\n\u001b[0m\u001b[0;32m     44\u001b[0m \u001b[1;33m\u001b[0m\u001b[0m\n\u001b[0;32m     45\u001b[0m     \u001b[0mprint\u001b[0m\u001b[1;33m(\u001b[0m\u001b[0mTarget_Price\u001b[0m\u001b[1;33m)\u001b[0m\u001b[1;33m\u001b[0m\u001b[1;33m\u001b[0m\u001b[0m\n",
      "\u001b[1;32m~\\Anaconda3\\lib\\site-packages\\sklearn\\tree\\_classes.py\u001b[0m in \u001b[0;36mpredict\u001b[1;34m(self, X, check_input)\u001b[0m\n\u001b[0;32m    425\u001b[0m         \"\"\"\n\u001b[0;32m    426\u001b[0m         \u001b[0mcheck_is_fitted\u001b[0m\u001b[1;33m(\u001b[0m\u001b[0mself\u001b[0m\u001b[1;33m)\u001b[0m\u001b[1;33m\u001b[0m\u001b[1;33m\u001b[0m\u001b[0m\n\u001b[1;32m--> 427\u001b[1;33m         \u001b[0mX\u001b[0m \u001b[1;33m=\u001b[0m \u001b[0mself\u001b[0m\u001b[1;33m.\u001b[0m\u001b[0m_validate_X_predict\u001b[0m\u001b[1;33m(\u001b[0m\u001b[0mX\u001b[0m\u001b[1;33m,\u001b[0m \u001b[0mcheck_input\u001b[0m\u001b[1;33m)\u001b[0m\u001b[1;33m\u001b[0m\u001b[1;33m\u001b[0m\u001b[0m\n\u001b[0m\u001b[0;32m    428\u001b[0m         \u001b[0mproba\u001b[0m \u001b[1;33m=\u001b[0m \u001b[0mself\u001b[0m\u001b[1;33m.\u001b[0m\u001b[0mtree_\u001b[0m\u001b[1;33m.\u001b[0m\u001b[0mpredict\u001b[0m\u001b[1;33m(\u001b[0m\u001b[0mX\u001b[0m\u001b[1;33m)\u001b[0m\u001b[1;33m\u001b[0m\u001b[1;33m\u001b[0m\u001b[0m\n\u001b[0;32m    429\u001b[0m         \u001b[0mn_samples\u001b[0m \u001b[1;33m=\u001b[0m \u001b[0mX\u001b[0m\u001b[1;33m.\u001b[0m\u001b[0mshape\u001b[0m\u001b[1;33m[\u001b[0m\u001b[1;36m0\u001b[0m\u001b[1;33m]\u001b[0m\u001b[1;33m\u001b[0m\u001b[1;33m\u001b[0m\u001b[0m\n",
      "\u001b[1;32m~\\Anaconda3\\lib\\site-packages\\sklearn\\tree\\_classes.py\u001b[0m in \u001b[0;36m_validate_X_predict\u001b[1;34m(self, X, check_input)\u001b[0m\n\u001b[0;32m    397\u001b[0m                              \u001b[1;34m\"match the input. Model n_features is %s and \"\u001b[0m\u001b[1;33m\u001b[0m\u001b[1;33m\u001b[0m\u001b[0m\n\u001b[0;32m    398\u001b[0m                              \u001b[1;34m\"input n_features is %s \"\u001b[0m\u001b[1;33m\u001b[0m\u001b[1;33m\u001b[0m\u001b[0m\n\u001b[1;32m--> 399\u001b[1;33m                              % (self.n_features_, n_features))\n\u001b[0m\u001b[0;32m    400\u001b[0m \u001b[1;33m\u001b[0m\u001b[0m\n\u001b[0;32m    401\u001b[0m         \u001b[1;32mreturn\u001b[0m \u001b[0mX\u001b[0m\u001b[1;33m\u001b[0m\u001b[1;33m\u001b[0m\u001b[0m\n",
      "\u001b[1;31mValueError\u001b[0m: Number of features of the model must match the input. Model n_features is 2125 and input n_features is 2067 "
     ]
    }
   ],
   "source": [
    "# A function that generates Target price Column for the test dataset\n",
    "def predict_test_csv():\n",
    "    \n",
    "    # Reading the CSV\n",
    "    test_df = pd.read_csv(\"C:/Users/YANTRA/Desktop/Python projects/House_price_prediction_INDIA/test.csv\")\n",
    "    \n",
    "    # Dropping the columns that are not going to be needed\n",
    "    test_df = test_df.drop(['LATITUDE' , 'LONGITUDE' , 'POSTED_BY'] , axis='columns')\n",
    "    \n",
    "    # Dropping the rows that have RK instead of BHK \n",
    "    test_df = test_df.drop(test_df[test_df['BHK_OR_RK'] == 'RK'].index)\n",
    "    test_df.drop(columns=['BHK_OR_RK'])\n",
    "    \n",
    "    # Splitting the City and Area aqnd then dropping the Address Column\n",
    "    test_df['Area'] = test_df['ADDRESS'].apply(lambda x: str(x.split(\",\")[0]))\n",
    "    test_df['City'] = test_df['ADDRESS'].apply(lambda y: str(y.split(\",\")[1]))\n",
    "    test_df = test_df.drop(columns=['ADDRESS' , 'City' , 'BHK_OR_RK'])\n",
    "    \n",
    "#     # Feature Engineering\n",
    "#     test_df.Area = test_df.Area.apply(lambda x: x.strip())\n",
    "#     Area_Stats = test_df.groupby('Area')['Area'].agg('count').sort_values(ascending=False)\n",
    "#     Area_Less_Than_10 = Area_Stats[Area_Stats < 10]\n",
    "#     test_df.Area = test_df.Area.apply(lambda x: \"Other\" if x in Area_Less_Than_10 else x)\n",
    "\n",
    "    # Code to make number of features in test dataset and train dataset same \n",
    "    unique_area_train = list(model_train_data_OHE['Area'].unique())\n",
    "    test_df = test_df.loc[(test_df['Area'].isin(unique_area_train)) , :]\n",
    "    \n",
    "    # Normalizing and other operations to make testing data prediction ready\n",
    "    scaler_X = MinMaxScaler(feature_range = (0 , 1))\n",
    "    test_df = test_df.drop(['UNDER_CONSTRUCTION'] , axis = 'columns')\n",
    "    ohe.fit(test_df.loc[: , ['Area']])\n",
    "    temp = ohe.transform(test_df.loc[: , ['Area']]).toarray()\n",
    "    categories = ohe.categories_\n",
    "    temp = pd.DataFrame(temp , columns = categories)\n",
    "    test_df_OHE = pd.concat([test_df.reset_index() , temp] , axis='columns')\n",
    "    test_df_Fin = test_df_OHE.drop(['Area'] , axis = 'columns')\n",
    "    test_df_Fin = scaler_X.fit_transform(test_df_Fin)\n",
    "    test_df_Fin = pd.DataFrame(test_df_Fin)\n",
    "    print(test_df_Fin.shape)\n",
    "    \n",
    "    # Prediction on test Dataset\n",
    "    Target_Price = reg1.predict(test_df_Fin)\n",
    "    \n",
    "    print(Target_Price)\n",
    "    \n",
    "predict_test_csv()"
   ]
  },
  {
   "cell_type": "code",
   "execution_count": 29,
   "metadata": {},
   "outputs": [
    {
     "data": {
      "text/plain": [
       "(16778, 2125)"
      ]
     },
     "execution_count": 29,
     "metadata": {},
     "output_type": "execute_result"
    }
   ],
   "source": [
    "X_Fin"
   ]
  },
  {
   "cell_type": "code",
   "execution_count": null,
   "metadata": {},
   "outputs": [],
   "source": []
  }
 ],
 "metadata": {
  "kernelspec": {
   "display_name": "Python 3",
   "language": "python",
   "name": "python3"
  },
  "language_info": {
   "codemirror_mode": {
    "name": "ipython",
    "version": 3
   },
   "file_extension": ".py",
   "mimetype": "text/x-python",
   "name": "python",
   "nbconvert_exporter": "python",
   "pygments_lexer": "ipython3",
   "version": "3.7.4"
  }
 },
 "nbformat": 4,
 "nbformat_minor": 4
}
